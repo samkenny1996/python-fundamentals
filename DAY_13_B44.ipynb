{
 "cells": [
  {
   "cell_type": "code",
   "execution_count": 8,
   "metadata": {},
   "outputs": [],
   "source": [
    "class greet:\n",
    "    \"\"\"creating a greeting class\"\"\"\n",
    "    \n",
    "    def create_user(self,username,age):\n",
    "        self.username = username\n",
    "        self.age = age\n",
    "        \n",
    "    def display_user(self):\n",
    "        print(self.username.title())\n",
    "        print(self.age)\n",
    "        \n",
    "    def greet_user(self):\n",
    "        print(f\"Hello {self.username}\")\n",
    "        print(f\"Is your age {self.age}\")"
   ]
  },
  {
   "cell_type": "code",
   "execution_count": 9,
   "metadata": {},
   "outputs": [],
   "source": [
    "test = greet()"
   ]
  },
  {
   "cell_type": "code",
   "execution_count": 10,
   "metadata": {},
   "outputs": [],
   "source": [
    "test.create_user('prabha_kenny','21')"
   ]
  },
  {
   "cell_type": "code",
   "execution_count": 13,
   "metadata": {},
   "outputs": [
    {
     "name": "stdout",
     "output_type": "stream",
     "text": [
      "Prabha_Kenny\n",
      "21\n"
     ]
    }
   ],
   "source": [
    "test.display_user()"
   ]
  },
  {
   "cell_type": "code",
   "execution_count": 15,
   "metadata": {},
   "outputs": [
    {
     "name": "stdout",
     "output_type": "stream",
     "text": [
      "Hello prabha_kenny\n",
      "Is your age 21\n"
     ]
    }
   ],
   "source": [
    "test.greet_user()"
   ]
  },
  {
   "cell_type": "code",
   "execution_count": 16,
   "metadata": {},
   "outputs": [],
   "source": [
    "abc = greet()"
   ]
  },
  {
   "cell_type": "code",
   "execution_count": 17,
   "metadata": {},
   "outputs": [],
   "source": [
    "test.create_user('sam_kuruvi','24')"
   ]
  },
  {
   "cell_type": "code",
   "execution_count": 18,
   "metadata": {},
   "outputs": [
    {
     "name": "stdout",
     "output_type": "stream",
     "text": [
      "Sam_Kuruvi\n",
      "24\n"
     ]
    }
   ],
   "source": [
    "test.display_user()"
   ]
  },
  {
   "cell_type": "code",
   "execution_count": 19,
   "metadata": {},
   "outputs": [
    {
     "name": "stdout",
     "output_type": "stream",
     "text": [
      "Hello sam_kuruvi\n",
      "Is your age 24\n"
     ]
    }
   ],
   "source": [
    "test.greet_user()"
   ]
  },
  {
   "cell_type": "code",
   "execution_count": null,
   "metadata": {},
   "outputs": [],
   "source": []
  }
 ],
 "metadata": {
  "kernelspec": {
   "display_name": "Python 3",
   "language": "python",
   "name": "python3"
  },
  "language_info": {
   "codemirror_mode": {
    "name": "ipython",
    "version": 3
   },
   "file_extension": ".py",
   "mimetype": "text/x-python",
   "name": "python",
   "nbconvert_exporter": "python",
   "pygments_lexer": "ipython3",
   "version": "3.8.5"
  }
 },
 "nbformat": 4,
 "nbformat_minor": 4
}
